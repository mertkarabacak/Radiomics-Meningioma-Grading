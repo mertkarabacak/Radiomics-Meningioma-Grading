{
  "cells": [
    {
      "cell_type": "code",
      "execution_count": null,
      "metadata": {
        "id": "T6HqhnpzHkmb"
      },
      "outputs": [],
      "source": [
        "!pip install nibabel\n",
        "!pip install pyradiomics\n",
        "!pip install pynrrd\n",
        "!pip install SimpleITK"
      ]
    },
    {
      "cell_type": "code",
      "execution_count": null,
      "metadata": {
        "id": "DgNAz1RnXPXN"
      },
      "outputs": [],
      "source": [
        "from google.colab import drive\n",
        "drive.mount('/content/drive')"
      ]
    },
    {
      "cell_type": "code",
      "execution_count": null,
      "metadata": {
        "id": "mVArRrQdHyOq"
      },
      "outputs": [],
      "source": [
        "import os\n",
        "import numpy as np\n",
        "import pandas as pd\n",
        "import nibabel as nib\n",
        "import nrrd\n",
        "from scipy import ndimage\n",
        "import matplotlib.pyplot as plt\n",
        "import os\n",
        "import glob\n",
        "import radiomics\n",
        "from radiomics import featureextractor\n",
        "import logging\n",
        "import SimpleITK as sitk"
      ]
    },
    {
      "cell_type": "code",
      "execution_count": null,
      "metadata": {
        "id": "Ke5GmnWD7aE5"
      },
      "outputs": [],
      "source": [
        "# Mask conversion.\n",
        "\n",
        "def convert_masks(filepath):\n",
        "    # Load the segmentation mask.\n",
        "    seg = nib.load(filepath)\n",
        "    seg_data = seg.get_fdata()\n",
        "\n",
        "    # Define binary masks.\n",
        "    ne_mask = np.where(seg_data == 1, 1, 0)  # non-enhancing tumor core\n",
        "    en_mask = np.where(seg_data == 3, 1, 0)  # enhancing tumor\n",
        "\n",
        "    # Combine binary masks to define whole tumor.\n",
        "    binary_mask = np.logical_or(ne_mask, en_mask)  # binary mask\n",
        "\n",
        "    # Convert boolean mask to uint8.\n",
        "    binary_mask = binary_mask.astype(np.uint8)\n",
        "\n",
        "    # Define file name.\n",
        "    basename = os.path.basename(filepath).replace('seg.nii.gz', '')\n",
        "    binary_mask_file = os.path.join(os.path.dirname(filepath), basename + 'seg_bin.nii.gz')\n",
        "\n",
        "    # Save new binary masks as NIfTI files.\n",
        "    binary_mask = nib.Nifti1Image(binary_mask, seg.affine)\n",
        "    nib.save(binary_mask, binary_mask_file)\n",
        "\n",
        "    print(f\"Saved binary mask for {basename}.\")\n",
        "\n",
        "# Find all the files in directory.\n",
        "seg_files = glob.glob(\"/content/drive/MyDrive/BraTS-MEN/Training/**/*seg.nii.gz\", recursive=True)\n",
        "\n",
        "# Apply mask conversion to each file.\n",
        "for file in seg_files:\n",
        "    convert_masks(file)"
      ]
    },
    {
      "cell_type": "code",
      "execution_count": null,
      "metadata": {
        "id": "kB8keKy9Tu9u"
      },
      "outputs": [],
      "source": [
        "import os\n",
        "\n",
        "def list_patient_files(base_path, patient_id):\n",
        "    \"\"\"List all files for a given patient, returns an empty list if the directory does not exist.\"\"\"\n",
        "    patient_path = os.path.join(base_path, str(patient_id))\n",
        "    if os.path.exists(patient_path):\n",
        "        return [f for f in os.listdir(patient_path) if os.path.isfile(os.path.join(patient_path, f))]\n",
        "    else:\n",
        "        return []\n",
        "\n",
        "def has_required_modalities(patient_files):\n",
        "    \"\"\"Check if all required modalities are present.\"\"\"\n",
        "    required_modalities = ['t1c.nii.gz', 't1n.nii.gz', 't2w.nii.gz', 't2f.nii.gz']\n",
        "    for modality in required_modalities:\n",
        "        if not any(modality in file for file in patient_files):\n",
        "            return False\n",
        "    return True\n",
        "\n",
        "def has_required_masks(patient_files):\n",
        "    \"\"\"Check if all required modalities are present.\"\"\"\n",
        "    required_masks = ['seg_bin.nii.gz']\n",
        "    for mask in required_masks:\n",
        "        if not any(mask in file for file in patient_files):\n",
        "            return False\n",
        "    return True\n",
        "\n",
        "base_path = '/content/drive/MyDrive/BraTS-MEN/Training'"
      ]
    },
    {
      "cell_type": "code",
      "execution_count": null,
      "metadata": {
        "id": "CA5JU6KeTS5i"
      },
      "outputs": [],
      "source": [
        "p = '/content/drive/MyDrive/BraTS-MEN/Training'\n",
        "patients = os.listdir(p)\n",
        "print(len(patients))"
      ]
    },
    {
      "cell_type": "code",
      "source": [
        "patients"
      ],
      "metadata": {
        "id": "cJNEbgzRK2Eh"
      },
      "execution_count": null,
      "outputs": []
    },
    {
      "cell_type": "code",
      "execution_count": null,
      "metadata": {
        "id": "pucAfnDYUdMy"
      },
      "outputs": [],
      "source": [
        "radiomics.logger.setLevel(logging.ERROR)\n",
        "\n",
        "extractor = featureextractor.RadiomicsFeatureExtractor('/content/drive/MyDrive/BraTS-CPTAC/params.yaml')"
      ]
    },
    {
      "cell_type": "code",
      "execution_count": null,
      "metadata": {
        "id": "c05rD45sXzuS"
      },
      "outputs": [],
      "source": [
        "# Set the file paths\n",
        "sample_path = '/content/drive/MyDrive/BraTS-MEN/Training/BraTS-MEN-00004-000/BraTS-MEN-00004-000-t1c.nii.gz'\n",
        "sample_mask_path = '/content/drive/MyDrive/BraTS-MEN/Training/BraTS-MEN-00004-000/BraTS-MEN-00004-000-seg_bin.nii.gz'\n",
        "\n",
        "# Read the image and mask using SimpleITK\n",
        "sample_image = sitk.ReadImage(sample_path)\n",
        "sample_mask = sitk.ReadImage(sample_mask_path)\n",
        "\n",
        "# Execute the feature extraction\n",
        "sample_features = extractor.execute(sample_image, sample_mask)\n",
        "\n",
        "# Create a list of feature names, excluding diagnostic features\n",
        "feature_names = [k for k in sample_features.keys() if not k.startswith('diagnostics')]"
      ]
    },
    {
      "cell_type": "code",
      "execution_count": null,
      "metadata": {
        "id": "nuXBfooBdAV6"
      },
      "outputs": [],
      "source": [
        "# Function to extract features or return zeros if an error occurs\n",
        "def extract_features_or_zero(extractor, image, mask, index, feature_names):\n",
        "    try:\n",
        "        features = extractor.execute(image, mask)\n",
        "        features = {k: v for k, v in features.items() if not k.startswith('diagnostics')}\n",
        "    except ValueError as e:\n",
        "        print(f'Error extracting features: {e}')\n",
        "        # Dynamically create a dictionary with zeros for all feature names\n",
        "        features = {feature_name: np.nan for feature_name in feature_names}\n",
        "\n",
        "    return pd.DataFrame([features], index=index)"
      ]
    },
    {
      "cell_type": "code",
      "execution_count": null,
      "metadata": {
        "id": "ch9VB8dujGia"
      },
      "outputs": [],
      "source": [
        "# Lists to store the feature DataFrames for each patient and MRI type\n",
        "T1, T1c, T2, FLAIR = ([] for _ in range(4))\n",
        "\n",
        "for patient in patients:\n",
        "    index = [patient]\n",
        "\n",
        "    # Construct the file paths for each image and mask type\n",
        "    T1_p = p + '/' + patient + '/' + patient + '-t1n.nii.gz'\n",
        "    T1c_p = p + '/' + patient + '/' + patient + '-t1c.nii.gz'\n",
        "    T2_p = p + '/' + patient + '/' + patient + '-t2w.nii.gz'\n",
        "    FLAIR_p = p + '/' + patient + '/' + patient + '-t2f.nii.gz'\n",
        "\n",
        "    m_p = p + '/' + patient + '/' + patient + '-seg_bin.nii.gz'\n",
        "\n",
        "    # Read the images and masks using SimpleITK\n",
        "    T1_image = sitk.ReadImage(T1_p)\n",
        "    T1c_image = sitk.ReadImage(T1c_p)\n",
        "    T2_image = sitk.ReadImage(T2_p)\n",
        "    FLAIR_image = sitk.ReadImage(FLAIR_p)\n",
        "\n",
        "    mask = sitk.ReadImage(m_p)\n",
        "\n",
        "    print('Extracting features of: ' + str(patient))\n",
        "\n",
        "    # Use the function for each image-mask pair\n",
        "    T1.append(extract_features_or_zero(extractor, T1_image, mask, index, feature_names))\n",
        "    T1c.append(extract_features_or_zero(extractor, T1c_image, mask, index, feature_names))\n",
        "    T2.append(extract_features_or_zero(extractor, T2_image, mask, index, feature_names))\n",
        "    FLAIR.append(extract_features_or_zero(extractor, FLAIR_image, mask, index, feature_names))\n",
        "\n",
        "    print(f'Finished extracting features for patient: {patient}'+'\\n')"
      ]
    },
    {
      "cell_type": "code",
      "execution_count": null,
      "metadata": {
        "id": "H8JP2GsVs2Ci"
      },
      "outputs": [],
      "source": [
        "# Concatenate the DataFrames for each mask and MRI type.\n",
        "\n",
        "T1_df = pd.concat(T1)\n",
        "T1_df = T1_df.add_prefix('T1_')\n",
        "\n",
        "T1c_df = pd.concat(T1c)\n",
        "T1c_df = T1c_df.add_prefix('T1c_')\n",
        "\n",
        "T2_df = pd.concat(T2)\n",
        "T2_df = T2_df.add_prefix('T2_')\n",
        "\n",
        "FLAIR_df = pd.concat(FLAIR)\n",
        "FLAIR_df = FLAIR_df.add_prefix('FLAIR_')\n",
        "\n",
        "combined = pd.concat([T1_df, T1c_df, T2_df, FLAIR_df], axis=1)\n",
        "combined.to_csv('/content/drive/MyDrive/BraTS-MEN/radiomic_features_train.csv')"
      ]
    }
  ],
  "metadata": {
    "colab": {
      "machine_shape": "hm",
      "provenance": []
    },
    "gpuClass": "standard",
    "kernelspec": {
      "display_name": "Python 3",
      "name": "python3"
    },
    "language_info": {
      "name": "python"
    }
  },
  "nbformat": 4,
  "nbformat_minor": 0
}